{
 "cells": [
  {
   "cell_type": "code",
   "execution_count": 2,
   "id": "4fa9b441-8bc9-4739-8605-3dd512df9719",
   "metadata": {},
   "outputs": [],
   "source": [
    "# https://github.com/pyvista/pyvista/issues/4130#issuecomment-1478780247\n",
    "import pyvista"
   ]
  },
  {
   "cell_type": "code",
   "execution_count": 3,
   "id": "e431b044-82df-4f8d-af07-10979ec3e104",
   "metadata": {},
   "outputs": [],
   "source": [
    "mesh = pyvista.Plane().triangulate()"
   ]
  },
  {
   "cell_type": "code",
   "execution_count": 4,
   "id": "8a463eb1-ded1-4ec3-bc3c-7e8f4f9fcf88",
   "metadata": {},
   "outputs": [],
   "source": [
    "submesh = mesh.subdivide(2, 'linear')"
   ]
  },
  {
   "cell_type": "code",
   "execution_count": null,
   "id": "deb9be34-d018-4fe6-ac98-d8e431aaa111",
   "metadata": {},
   "outputs": [
    {
     "name": "stderr",
     "output_type": "stream",
     "text": [
      "ERROR:root:bad X server connection. DISPLAY=:99.0. Aborting.\n",
      "\u001b[0m\u001b[31m2023-10-09 19:12:44.400 ( 112.155s) [        4F15C740]vtkXOpenGLRenderWindow.:464    ERR| vtkXOpenGLRenderWindow (0x558158d761b0): bad X server connection. DISPLAY=:99.0. Aborting.\n",
      "\u001b[0m\n"
     ]
    }
   ],
   "source": [
    "submesh.plot(show_edges=True)"
   ]
  },
  {
   "cell_type": "code",
   "execution_count": null,
   "id": "243a83e7-8c4a-4701-a879-902f188d665b",
   "metadata": {},
   "outputs": [],
   "source": []
  }
 ],
 "metadata": {
  "kernelspec": {
   "display_name": "Python 3 (ipykernel)",
   "language": "python",
   "name": "python3"
  },
  "language_info": {
   "codemirror_mode": {
    "name": "ipython",
    "version": 3
   },
   "file_extension": ".py",
   "mimetype": "text/x-python",
   "name": "python",
   "nbconvert_exporter": "python",
   "pygments_lexer": "ipython3",
   "version": "3.11.5"
  }
 },
 "nbformat": 4,
 "nbformat_minor": 5
}
