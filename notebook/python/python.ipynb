{
 "cells": [
  {
   "cell_type": "code",
   "execution_count": 2,
   "id": "c5214a31-6ffa-49dc-a07a-77cc88f3a0b6",
   "metadata": {},
   "outputs": [],
   "source": [
    "import gmsh\n",
    "import sys"
   ]
  },
  {
   "cell_type": "code",
   "execution_count": 3,
   "id": "dfd7623e-8229-4ae6-a125-5c4baae57e15",
   "metadata": {},
   "outputs": [
    {
     "name": "stdout",
     "output_type": "stream",
     "text": [
      "Info    : Meshing 1D...\n",
      "Info    : [  0%] Meshing curve 1 (Line)\n",
      "Info    : [ 30%] Meshing curve 2 (Line)\n",
      "Info    : [ 50%] Meshing curve 3 (Line)\n",
      "Info    : [ 80%] Meshing curve 4 (Line)\n",
      "Info    : Done meshing 1D (Wall 0.00031548s, CPU 0.000442s)\n",
      "Info    : Meshing 2D...\n",
      "Info    : Meshing surface 1 (Plane, Frontal-Delaunay)\n",
      "Info    : Done meshing 2D (Wall 0.00758677s, CPU 0.007831s)\n",
      "Info    : 404 nodes 810 elements\n",
      "Info    : Writing 't1.msh'...\n",
      "Info    : Done writing 't1.msh'\n"
     ]
    }
   ],
   "source": [
    "gmsh.initialize()\n",
    "gmsh.model.add(\"t1\")\n",
    "lc = 1e-2\n",
    "gmsh.model.geo.addPoint(0, 0, 0, lc, 1)\n",
    "gmsh.model.geo.addPoint(.1, 0, 0, lc, 2)\n",
    "gmsh.model.geo.addPoint(.1, .3, 0, lc, 3)\n",
    "p4 = gmsh.model.geo.addPoint(0, .3, 0, lc)\n",
    "gmsh.model.geo.addLine(1, 2, 1)\n",
    "gmsh.model.geo.addLine(3, 2, 2)\n",
    "gmsh.model.geo.addLine(3, p4, 3)\n",
    "gmsh.model.geo.addLine(4, 1, p4)\n",
    "gmsh.model.geo.addCurveLoop([4, 1, -2, 3], 1)\n",
    "gmsh.model.geo.addPlaneSurface([1], 1)\n",
    "gmsh.model.geo.synchronize()\n",
    "gmsh.model.addPhysicalGroup(1, [1, 2, 4], 5)\n",
    "gmsh.model.addPhysicalGroup(2, [1], name=\"My surface\")\n",
    "gmsh.model.mesh.generate(2)\n",
    "gmsh.write(\"t1.msh\")\n",
    "gmsh.finalize()"
   ]
  },
  {
   "cell_type": "code",
   "execution_count": 4,
   "id": "5764a207-a85d-4936-bf3e-3fe63e2aeb2b",
   "metadata": {},
   "outputs": [
    {
     "name": "stdout",
     "output_type": "stream",
     "text": [
      "LICENSE  README.md  gmsh  julia.ipynb  python.ipynb  pyvista.ipynb  t1.msh\n"
     ]
    }
   ],
   "source": [
    "!(ls)"
   ]
  },
  {
   "cell_type": "code",
   "execution_count": null,
   "id": "e0df3f41-5a50-4532-b782-0ffeb9802781",
   "metadata": {},
   "outputs": [],
   "source": []
  }
 ],
 "metadata": {
  "kernelspec": {
   "display_name": "Python 3 (ipykernel)",
   "language": "python",
   "name": "python3"
  },
  "language_info": {
   "codemirror_mode": {
    "name": "ipython",
    "version": 3
   },
   "file_extension": ".py",
   "mimetype": "text/x-python",
   "name": "python",
   "nbconvert_exporter": "python",
   "pygments_lexer": "ipython3",
   "version": "3.11.6"
  }
 },
 "nbformat": 4,
 "nbformat_minor": 5
}
