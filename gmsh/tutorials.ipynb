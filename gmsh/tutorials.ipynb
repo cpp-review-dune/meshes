{
 "cells": [
  {
   "cell_type": "code",
   "execution_count": 2,
   "id": "027abd11",
   "metadata": {},
   "outputs": [],
   "source": [
    "using Pkg"
   ]
  },
  {
   "cell_type": "code",
   "execution_count": 2,
   "id": "2e1314f3",
   "metadata": {},
   "outputs": [
    {
     "name": "stdout",
     "output_type": "stream",
     "text": [
      "\u001b[32m\u001b[1mStatus\u001b[22m\u001b[39m `/workspace/meshes/gmsh/Project.toml`\n",
      "  \u001b[90m[7073ff75] \u001b[39mIJulia v1.24.2\n"
     ]
    }
   ],
   "source": [
    "Pkg.status()"
   ]
  },
  {
   "cell_type": "code",
   "execution_count": 3,
   "id": "1db14f4f",
   "metadata": {},
   "outputs": [],
   "source": [
    "#Pkg.update()"
   ]
  },
  {
   "cell_type": "code",
   "execution_count": 4,
   "id": "118fa584",
   "metadata": {},
   "outputs": [],
   "source": [
    "using gmsh"
   ]
  },
  {
   "cell_type": "code",
   "execution_count": 5,
   "id": "78adb431",
   "metadata": {},
   "outputs": [
    {
     "name": "stdout",
     "output_type": "stream",
     "text": [
      "Info    : Meshing 1D...\n",
      "Info    : [  0%] Meshing curve 1 (Line)\n",
      "Info    : [ 30%] Meshing curve 2 (Line)\n",
      "Info    : [ 50%] Meshing curve 3 (Line)\n",
      "Info    : [ 80%] Meshing curve 4 (Line)\n",
      "Info    : Done meshing 1D (Wall 0.00030093s, CPU 0.000294s)\n",
      "Info    : Meshing 2D...\n",
      "Info    : Meshing surface 1 (Plane, Frontal-Delaunay)\n",
      "Info    : Done meshing 2D (Wall 0.00807471s, CPU 0.008072s)\n",
      "Info    : 404 nodes 810 elements\n",
      "Info    : Writing 't1.msh'...\n",
      "Info    : Done writing 't1.msh'\n"
     ]
    },
    {
     "name": "stderr",
     "output_type": "stream",
     "text": [
      "Warning : Unknown entity of dimension 0 and tag 1 in physical group 1\n",
      "Warning : Unknown entity of dimension 0 and tag 2 in physical group 1\n",
      "Warning : Unknown entity of dimension 1 and tag 1 in physical group 2\n",
      "Warning : Unknown entity of dimension 1 and tag 2 in physical group 2\n",
      "Warning : Unknown entity of dimension 2 and tag 1 in physical group 6\n"
     ]
    }
   ],
   "source": [
    "gmsh.initialize()\n",
    "gmsh.option.setNumber(\"General.Terminal\", 1)\n",
    "gmsh.model.add(\"t1\")\n",
    "lc = 1e-2\n",
    "gmsh.model.geo.addPoint(0, 0, 0, lc, 1)\n",
    "gmsh.model.geo.addPoint(.1, 0,  0, lc, 2)\n",
    "gmsh.model.geo.addPoint(.1, .3, 0, lc, 3)\n",
    "gmsh.model.geo.addPoint(0, .3, 0, lc, 4)\n",
    "gmsh.model.geo.addLine(1, 2, 1)\n",
    "gmsh.model.geo.addLine(3, 2, 2)\n",
    "gmsh.model.geo.addLine(3, 4, 3)\n",
    "gmsh.model.geo.addLine(4, 1, 4)\n",
    "gmsh.model.geo.addCurveLoop([4, 1, -2, 3], 1)\n",
    "gmsh.model.geo.addPlaneSurface([1], 1)\n",
    "gmsh.model.addPhysicalGroup(0, [1, 2], 1)\n",
    "gmsh.model.addPhysicalGroup(1, [1, 2], 2)\n",
    "gmsh.model.addPhysicalGroup(2, [1], 6)\n",
    "gmsh.model.setPhysicalName(2, 6, \"My surface\")\n",
    "gmsh.model.geo.synchronize()\n",
    "gmsh.model.mesh.generate(2)\n",
    "gmsh.write(\"t1.msh\")\n",
    "gmsh.finalize()"
   ]
  },
  {
   "cell_type": "code",
   "execution_count": 1,
   "id": "acc83ba5",
   "metadata": {},
   "outputs": [
    {
     "ename": "UndefVarError",
     "evalue": "UndefVarError: `gmsh` not defined",
     "output_type": "error",
     "traceback": [
      "UndefVarError: `gmsh` not defined\n",
      "\n",
      "Stacktrace:\n",
      " [1] top-level scope\n",
      "   @ /workspace/meshes/gmsh/tutorials.ipynb:1"
     ]
    }
   ],
   "source": [
    "gmsh.initialize()\n",
    "gmsh.model.add(\"t2\")\n",
    "lc = 1e-2\n",
    "gmsh.model.geo.addPoint(0, 0, 0, lc, 1)\n",
    "gmsh.model.geo.addPoint(.1, 0,  0, lc, 2)\n",
    "gmsh.model.geo.addPoint(.1, .3, 0, lc, 3)\n",
    "gmsh.model.geo.addPoint(0, .3, 0, lc, 4)\n",
    "gmsh.model.geo.addLine(1, 2, 1)\n",
    "gmsh.model.geo.addLine(3, 2, 2)\n",
    "gmsh.model.geo.addLine(3, 4, 3)\n",
    "gmsh.model.geo.addLine(4, 1, 4)\n",
    "gmsh.model.geo.addCurveLoop([4, 1, -2, 3], 1)\n",
    "gmsh.model.geo.addPlaneSurface([1], 1)\n",
    "gmsh.model.geo.synchronize()\n",
    "gmsh.model.addPhysicalGroup(1, [1, 2, 4], 5)\n",
    "gmsh.model.addPhysicalGroup(2, [1], -1, \"My surface\")\n",
    "gmsh.model.geo.addPoint(0, .4, 0, lc, 5)\n",
    "gmsh.model.geo.addLine(4, 5, 5)\n",
    "gmsh.model.geo.translate([(0, 5)], -0.02, 0, 0)\n",
    "gmsh.model.geo.rotate([(0, 5)], 0, 0.3, 0, 0, 0, 1, -pi / 4)\n",
    "ov = gmsh.model.geo.copy([(0, 3)])\n",
    "gmsh.model.geo.translate(ov, 0, 0.05, 0)\n",
    "\n",
    "gmsh.model.geo.addLine(3, ov[1][2], 7)\n",
    "gmsh.model.geo.addLine(ov[1][2], 5, 8)\n",
    "gmsh.model.geo.addCurveLoop([5, -8, -7, 3], 10)\n",
    "gmsh.model.geo.addPlaneSurface([10], 11)\n",
    "\n",
    "ov = gmsh.model.geo.copy([(2, 1), (2, 11)])\n",
    "gmsh.model.geo.translate(ov, 0.12, 0, 0)\n",
    "\n",
    "println(\"New surfaces \", ov[1][2], \" and \", ov[2][2])\n",
    "\n",
    "gmsh.model.geo.addPoint(0., 0.3, 0.12, lc, 100)\n",
    "gmsh.model.geo.addPoint(0.1, 0.3, 0.12, lc, 101)\n",
    "gmsh.model.geo.addPoint(0.1, 0.35, 0.12, lc, 102)\n",
    "\n",
    "gmsh.model.geo.synchronize()\n",
    "xyz = gmsh.model.getValue(0, 5, [])\n",
    "gmsh.model.geo.addPoint(xyz[1], xyz[2], 0.12, lc, 103)\n",
    "\n",
    "gmsh.model.geo.addLine(4, 100, 110)\n",
    "gmsh.model.geo.addLine(3, 101, 111)\n",
    "gmsh.model.geo.addLine(6, 102, 112)\n",
    "gmsh.model.geo.addLine(5, 103, 113)\n",
    "gmsh.model.geo.addLine(103, 100, 114)\n",
    "gmsh.model.geo.addLine(100, 101, 115)\n",
    "gmsh.model.geo.addLine(101, 102, 116)\n",
    "gmsh.model.geo.addLine(102, 103, 117)\n",
    "\n",
    "gmsh.model.geo.addCurveLoop([115, -111, 3, 110], 118)\n",
    "gmsh.model.geo.addPlaneSurface([118], 119)\n",
    "gmsh.model.geo.addCurveLoop([111, 116, -112, -7], 120)\n",
    "gmsh.model.geo.addPlaneSurface([120], 121)\n",
    "gmsh.model.geo.addCurveLoop([112, 117, -113, -8], 122)\n",
    "gmsh.model.geo.addPlaneSurface([122], 123)\n",
    "gmsh.model.geo.addCurveLoop([114, -110, 5, 113], 124)\n",
    "gmsh.model.geo.addPlaneSurface([124], 125)\n",
    "gmsh.model.geo.addCurveLoop([115, 116, 117, 114], 126)\n",
    "gmsh.model.geo.addPlaneSurface([126], 127)\n",
    "\n",
    "gmsh.model.geo.addSurfaceLoop([127, 119, 121, 123, 125, 11], 128)\n",
    "gmsh.model.geo.addVolume([128], 129)\n",
    "\n",
    "ov2 = gmsh.model.geo.extrude([ov[2]], 0, 0, 0.12)\n",
    "\n",
    "gmsh.model.geo.mesh.setSize([(0, 103), (0, 105), (0, 109), (0, 102), (0, 28),\n",
    "                             (0, 24), (0, 6), (0, 5)], lc * 3)\n",
    "\n",
    "gmsh.model.geo.synchronize()\n",
    "gmsh.model.addPhysicalGroup(3, [129, 130], 1, \"The volume\")\n",
    "gmsh.model.mesh.generate(3)\n",
    "gmsh.write(\"t2.msh\")\n",
    "gmsh.finalize()"
   ]
  },
  {
   "cell_type": "code",
   "execution_count": null,
   "id": "47110637",
   "metadata": {},
   "outputs": [],
   "source": []
  }
 ],
 "metadata": {
  "kernelspec": {
   "display_name": "Julia 1.9.4",
   "language": "julia",
   "name": "julia-1.9"
  },
  "language_info": {
   "file_extension": ".jl",
   "mimetype": "application/julia",
   "name": "julia",
   "version": "1.9.4"
  }
 },
 "nbformat": 4,
 "nbformat_minor": 5
}
