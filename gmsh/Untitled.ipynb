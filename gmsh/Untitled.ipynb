{
 "cells": [
  {
   "cell_type": "code",
   "execution_count": 6,
   "id": "027abd11",
   "metadata": {},
   "outputs": [
    {
     "ename": "ArgumentError",
     "evalue": "ArgumentError: Package Pkg not found in current path, maybe you meant `import/using .Pkg`.\n- Otherwise, run `import Pkg; Pkg.add(\"Pkg\")` to install the Pkg package.",
     "output_type": "error",
     "traceback": [
      "ArgumentError: Package Pkg not found in current path, maybe you meant `import/using .Pkg`.\n",
      "- Otherwise, run `import Pkg; Pkg.add(\"Pkg\")` to install the Pkg package.\n",
      "\n",
      "Stacktrace:\n",
      "  [1] macro expansion\n",
      "    @ ./loading.jl:1630 [inlined]\n",
      "  [2] macro expansion\n",
      "    @ ./lock.jl:267 [inlined]\n",
      "  [3] require(into::Module, mod::Symbol)\n",
      "    @ Base ./loading.jl:1611\n",
      "  [4] eval\n",
      "    @ ./boot.jl:370 [inlined]\n",
      "  [5] include_string(mapexpr::typeof(REPL.softscope), mod::Module, code::String, filename::String)\n",
      "    @ Base ./loading.jl:1903\n",
      "  [6] #invokelatest#2\n",
      "    @ ./essentials.jl:819 [inlined]\n",
      "  [7] invokelatest\n",
      "    @ ./essentials.jl:816 [inlined]\n",
      "  [8] (::VSCodeServer.var\"#208#209\"{VSCodeServer.NotebookRunCellArguments, String})()\n",
      "    @ VSCodeServer /workspace/.vscode-remote/extensions/julialang.language-julia-1.65.2-universal/scripts/packages/VSCodeServer/src/serve_notebook.jl:19\n",
      "  [9] withpath(f::VSCodeServer.var\"#208#209\"{VSCodeServer.NotebookRunCellArguments, String}, path::String)\n",
      "    @ VSCodeServer /workspace/.vscode-remote/extensions/julialang.language-julia-1.65.2-universal/scripts/packages/VSCodeServer/src/repl.jl:274\n",
      " [10] notebook_runcell_request(conn::VSCodeServer.JSONRPC.JSONRPCEndpoint{Base.PipeEndpoint, Base.PipeEndpoint}, params::VSCodeServer.NotebookRunCellArguments)\n",
      "    @ VSCodeServer /workspace/.vscode-remote/extensions/julialang.language-julia-1.65.2-universal/scripts/packages/VSCodeServer/src/serve_notebook.jl:13\n",
      " [11] dispatch_msg(x::VSCodeServer.JSONRPC.JSONRPCEndpoint{Base.PipeEndpoint, Base.PipeEndpoint}, dispatcher::VSCodeServer.JSONRPC.MsgDispatcher, msg::Dict{String, Any})\n",
      "    @ VSCodeServer.JSONRPC /workspace/.vscode-remote/extensions/julialang.language-julia-1.65.2-universal/scripts/packages/JSONRPC/src/typed.jl:67\n",
      " [12] serve_notebook(pipename::String, outputchannel_logger::Base.CoreLogging.SimpleLogger; crashreporting_pipename::String)\n",
      "    @ VSCodeServer /workspace/.vscode-remote/extensions/julialang.language-julia-1.65.2-universal/scripts/packages/VSCodeServer/src/serve_notebook.jl:139\n",
      " [13] top-level scope\n",
      "    @ /workspace/.vscode-remote/extensions/julialang.language-julia-1.65.2-universal/scripts/notebook/notebook.jl:32"
     ]
    }
   ],
   "source": [
    "using Pkg"
   ]
  },
  {
   "cell_type": "code",
   "execution_count": 7,
   "id": "2e1314f3",
   "metadata": {},
   "outputs": [
    {
     "name": "stdout",
     "output_type": "stream",
     "text": [
      "\u001b[32m\u001b[1mStatus\u001b[22m\u001b[39m `/workspace/meshes/gmsh/Project.toml`\n",
      "  \u001b[90m[7073ff75] \u001b[39mIJulia v1.24.2\n"
     ]
    }
   ],
   "source": [
    "Pkg.status()"
   ]
  },
  {
   "cell_type": "code",
   "execution_count": 3,
   "id": "1db14f4f",
   "metadata": {},
   "outputs": [],
   "source": [
    "#Pkg.update()"
   ]
  },
  {
   "cell_type": "code",
   "execution_count": 4,
   "id": "118fa584",
   "metadata": {},
   "outputs": [],
   "source": [
    "using gmsh"
   ]
  },
  {
   "cell_type": "code",
   "execution_count": 5,
   "id": "78adb431",
   "metadata": {},
   "outputs": [
    {
     "name": "stdout",
     "output_type": "stream",
     "text": [
      "Info    : Meshing 1D...\n",
      "Info    : [  0%] Meshing curve 1 (Line)\n",
      "Info    : [ 30%] Meshing curve 2 (Line)\n",
      "Info    : [ 50%] Meshing curve 3 (Line)\n",
      "Info    : [ 80%] Meshing curve 4 (Line)\n",
      "Info    : Done meshing 1D (Wall 0.00037858s, CPU 0.00038s)\n",
      "Info    : Meshing 2D...\n",
      "Info    : Meshing surface 1 (Plane, Frontal-Delaunay)\n",
      "Info    : Done meshing 2D (Wall 0.00773375s, CPU 0.007728s)\n",
      "Info    : 404 nodes 810 elements\n",
      "Info    : Writing 't1.msh'...\n",
      "Info    : Done writing 't1.msh'\n"
     ]
    },
    {
     "name": "stderr",
     "output_type": "stream",
     "text": [
      "Warning : Unknown entity of dimension 0 and tag 1 in physical group 1\n",
      "Warning : Unknown entity of dimension 0 and tag 2 in physical group 1\n",
      "Warning : Unknown entity of dimension 1 and tag 1 in physical group 2\n",
      "Warning : Unknown entity of dimension 1 and tag 2 in physical group 2\n",
      "Warning : Unknown entity of dimension 2 and tag 1 in physical group 6\n"
     ]
    }
   ],
   "source": [
    "gmsh.initialize()\n",
    "gmsh.option.setNumber(\"General.Terminal\", 1)\n",
    "gmsh.model.add(\"t1\")\n",
    "lc = 1e-2\n",
    "gmsh.model.geo.addPoint(0, 0, 0, lc, 1)\n",
    "gmsh.model.geo.addPoint(.1, 0,  0, lc, 2)\n",
    "gmsh.model.geo.addPoint(.1, .3, 0, lc, 3)\n",
    "gmsh.model.geo.addPoint(0, .3, 0, lc, 4)\n",
    "gmsh.model.geo.addLine(1, 2, 1)\n",
    "gmsh.model.geo.addLine(3, 2, 2)\n",
    "gmsh.model.geo.addLine(3, 4, 3)\n",
    "gmsh.model.geo.addLine(4, 1, 4)\n",
    "gmsh.model.geo.addCurveLoop([4, 1, -2, 3], 1)\n",
    "gmsh.model.geo.addPlaneSurface([1], 1)\n",
    "gmsh.model.addPhysicalGroup(0, [1, 2], 1)\n",
    "gmsh.model.addPhysicalGroup(1, [1, 2], 2)\n",
    "gmsh.model.addPhysicalGroup(2, [1], 6)\n",
    "gmsh.model.setPhysicalName(2, 6, \"My surface\")\n",
    "gmsh.model.geo.synchronize()\n",
    "gmsh.model.mesh.generate(2)\n",
    "gmsh.write(\"t1.msh\")\n",
    "gmsh.finalize()"
   ]
  },
  {
   "cell_type": "code",
   "execution_count": null,
   "id": "acc83ba5",
   "metadata": {},
   "outputs": [],
   "source": []
  }
 ],
 "metadata": {
  "kernelspec": {
   "display_name": "Julia 1.9.4",
   "language": "julia",
   "name": "julia-1.9"
  },
  "language_info": {
   "file_extension": ".jl",
   "mimetype": "application/julia",
   "name": "julia",
   "version": "1.9.4"
  }
 },
 "nbformat": 4,
 "nbformat_minor": 5
}
